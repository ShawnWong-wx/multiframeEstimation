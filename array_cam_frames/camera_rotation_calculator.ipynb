{
 "cells": [
  {
   "cell_type": "markdown",
   "metadata": {},
   "source": [
    "# Camera rotation calculator\n",
    "\n",
    "Calculate the rotation needed for the cameras to focus on a same point\n",
    "\n",
    "Peduncle extender original pad dimension: 25, -10. Original Z placement: -3."
   ]
  },
  {
   "cell_type": "markdown",
   "metadata": {},
   "source": [
    "## How to find a proper depth array"
   ]
  },
  {
   "cell_type": "markdown",
   "metadata": {},
   "source": [
    "Define a matrix *non-overlapping* if it contains only 1,2,3,4, and there's no equal adjacent (including diagonal) elements in it. \n",
    "\n",
    "Starts from the top-left corner   \n",
    "[[1, 2],   \n",
    " [3, 4]]\n",
    " \n",
    "Then make a function `top_pad`, expand any NxN matrix to (N+1)xN. The extra top row only needs to consider the original top row. \n",
    "\n",
    "First, fill all \"determined\" elements, where the three elements under it contain 3 different values.\n",
    "\n",
    "Then, starts from the left, determine all undefined numbers.\n",
    "\n",
    "By transposing and top_pad again the transpose bace, we make it 3x3."
   ]
  },
  {
   "cell_type": "code",
   "execution_count": 1,
   "metadata": {},
   "outputs": [],
   "source": [
    "import numpy as np"
   ]
  },
  {
   "cell_type": "code",
   "execution_count": null,
   "metadata": {},
   "outputs": [],
   "source": [
    "def top_pad(mat):\n",
    "    \"\"\"\n",
    "    mat should be a mxn matrix, containing only 0,1,2,3, non-overlapping\n",
    "    \"\"\"\n",
    "    # pick out original top row, build extra row\n",
    "    top_vec = mat[0]\n",
    "    N = len(top_vec)\n",
    "    assert N>=2\n",
    "    pad_vec = np.full_like(top_vec, -1)\n",
    "    \n",
    "    # fill all \"determined\" elements in extra row\n",
    "    for a in range(N-2):\n",
    "        ref = np.unique(top_vec[a:a+3])\n",
    "        if len(ref)==3:\n",
    "            pad_vec[a+1] = 10-np.sum(ref)\n",
    "    \n",
    "    # fill all left-outs, where tree-like structure introduced\n",
    "    for a in range(N):\n",
    "        if pad_vec"
   ]
  },
  {
   "cell_type": "code",
   "execution_count": null,
   "metadata": {},
   "outputs": [],
   "source": [
    "stop"
   ]
  },
  {
   "cell_type": "code",
   "execution_count": 15,
   "metadata": {},
   "outputs": [],
   "source": [
    "# all distance in millimeters\n",
    "d = 700\n",
    "gap = 33\n",
    "d_gap = 13\n",
    "layer_map = np.array([\n",
    "    [0, 1, 0, 1],\n",
    "    [2, 3, 2, 3],\n",
    "    [0, 1, 0, 1],\n",
    "    [2, 3, 2, 3]\n",
    "])\n",
    "m,n = layer_map.shape\n",
    "letter_label = ['A', 'B', 'C', 'D']\n",
    "number_label = np.arange(4,0,-1)\n",
    "ori_pad2 = -10\n",
    "ori_zoff = -3"
   ]
  },
  {
   "cell_type": "code",
   "execution_count": 16,
   "metadata": {},
   "outputs": [
    {
     "name": "stdout",
     "output_type": "stream",
     "text": [
      "Connector A4:\tpeduncle has padding -10, z offset  -3. flower euler angle X=-4.045, Y=-4.035.\n",
      "Connector A3:\tpeduncle has padding  16, z offset  23. flower euler angle X=-1.402, Y=-4.199.\n",
      "Connector A2:\tpeduncle has padding -10, z offset  -3. flower euler angle X= 1.350, Y=-4.044.\n",
      "Connector A1:\tpeduncle has padding  16, z offset  23. flower euler angle X= 4.200, Y=-4.189.\n",
      "Connector B4:\tpeduncle has padding   3, z offset  10. flower euler angle X=-4.121, Y=-1.372.\n",
      "Connector B3:\tpeduncle has padding  29, z offset  36. flower euler angle X=-1.430, Y=-1.429.\n",
      "Connector B2:\tpeduncle has padding   3, z offset  10. flower euler angle X= 1.376, Y=-1.375.\n",
      "Connector B1:\tpeduncle has padding  29, z offset  36. flower euler angle X= 4.283, Y=-1.426.\n",
      "Connector C4:\tpeduncle has padding -10, z offset  -3. flower euler angle X=-4.045, Y= 1.347.\n",
      "Connector C3:\tpeduncle has padding  16, z offset  23. flower euler angle X=-1.402, Y= 1.402.\n",
      "Connector C2:\tpeduncle has padding -10, z offset  -3. flower euler angle X= 1.350, Y= 1.350.\n",
      "Connector C1:\tpeduncle has padding  16, z offset  23. flower euler angle X= 4.200, Y= 1.399.\n",
      "Connector D4:\tpeduncle has padding   3, z offset  10. flower euler angle X=-4.121, Y= 4.111.\n",
      "Connector D3:\tpeduncle has padding  29, z offset  36. flower euler angle X=-1.430, Y= 4.281.\n",
      "Connector D2:\tpeduncle has padding   3, z offset  10. flower euler angle X= 1.376, Y= 4.120.\n",
      "Connector D1:\tpeduncle has padding  29, z offset  36. flower euler angle X= 4.283, Y= 4.271.\n"
     ]
    }
   ],
   "source": [
    "for b in range(n):\n",
    "    for a in range(m):\n",
    "        d_off = layer_map[a,b]*d_gap\n",
    "        act_d = d-d_off\n",
    "        gapX = (a-m/2+1/2)*gap\n",
    "        gapY = (b-n/2+1/2)*gap\n",
    "        angleX = np.arctan(gapX/act_d)\n",
    "        angleY = np.arctan(gapY/act_d*np.cos(angleX))\n",
    "        \n",
    "        print(\"Connector {}{}:\\t\".format(letter_label[b],number_label[a]) + \\\n",
    "              \"peduncle has padding {: >3}, z offset {: >3}. \".format(\"{:d}\".format(ori_pad2+d_off), \n",
    "                                                                      \"{:d}\".format(ori_zoff+d_off)) + \\\n",
    "              \"flower euler angle X={: >6}, Y={: >6}.\".format(\"{:.3f}\".format(angleX/np.pi*180), \n",
    "                                                              \"{:.3f}\".format(angleY/np.pi*180)))"
   ]
  },
  {
   "cell_type": "code",
   "execution_count": 18,
   "metadata": {},
   "outputs": [
    {
     "name": "stdout",
     "output_type": "stream",
     "text": [
      "Margin is 0.035\n"
     ]
    }
   ],
   "source": [
    "# test margin, test D1 and C1\n",
    "thickness = 7.6\n",
    "width = 40\n",
    "down = width/2*(np.sin(4.170/180*np.pi)+np.sin(4.159/180*np.pi))\n",
    "up = width/2*(np.sin(4.127/180*np.pi)+np.sin(1.374/180*np.pi))\n",
    "print(\"Margin is {:.3f}\".format(d_gap-thickness-down-up))"
   ]
  },
  {
   "cell_type": "code",
   "execution_count": 19,
   "metadata": {},
   "outputs": [
    {
     "name": "stdout",
     "output_type": "stream",
     "text": [
      "[[0 1 0 1]\n",
      " [2 3 2 3]\n",
      " [0 1 0 1]\n",
      " [2 3 2 3]]\n"
     ]
    }
   ],
   "source": [
    "print(layer_map)"
   ]
  },
  {
   "cell_type": "code",
   "execution_count": null,
   "metadata": {},
   "outputs": [],
   "source": []
  }
 ],
 "metadata": {
  "kernelspec": {
   "display_name": "Python 3",
   "language": "python",
   "name": "python3"
  },
  "language_info": {
   "codemirror_mode": {
    "name": "ipython",
    "version": 3
   },
   "file_extension": ".py",
   "mimetype": "text/x-python",
   "name": "python",
   "nbconvert_exporter": "python",
   "pygments_lexer": "ipython3",
   "version": "3.7.4"
  }
 },
 "nbformat": 4,
 "nbformat_minor": 2
}
