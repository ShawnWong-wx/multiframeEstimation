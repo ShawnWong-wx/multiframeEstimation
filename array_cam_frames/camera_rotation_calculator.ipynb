{
 "cells": [
  {
   "cell_type": "markdown",
   "metadata": {},
   "source": [
    "# Camera rotation calculator\n",
    "\n",
    "Calculate the rotation needed for the cameras to focus on a same point\n",
    "\n",
    "Peduncle extender original pad dimension: 25, -10. Original Z placement: -3."
   ]
  },
  {
   "cell_type": "code",
   "execution_count": 1,
   "metadata": {},
   "outputs": [],
   "source": [
    "import numpy as np"
   ]
  },
  {
   "cell_type": "code",
   "execution_count": 6,
   "metadata": {},
   "outputs": [],
   "source": [
    "# all distance in millimeters\n",
    "d = 700\n",
    "gap = 33\n",
    "d_gap = 7\n",
    "layer_map = np.array([\n",
    "    [0, 1, 0, 1],\n",
    "    [2, 3, 2, 3],\n",
    "    [0, 1, 0, 1],\n",
    "    [2, 3, 2, 3]\n",
    "])\n",
    "m,n = layer_map.shape\n",
    "letter_label = ['A', 'B', 'C', 'D']\n",
    "number_label = np.arange(4,0,-1)\n",
    "ori_pad2 = -10\n",
    "ori_zoff = -3"
   ]
  },
  {
   "cell_type": "code",
   "execution_count": 9,
   "metadata": {},
   "outputs": [
    {
     "name": "stdout",
     "output_type": "stream",
     "text": [
      "Connector A4:\tpeduncle has padding -10, z offset  -3. flower euler angle X=-4.045, Y=-4.035.\n",
      "Connector A3:\tpeduncle has padding   4, z offset  11. flower euler angle X=-1.378, Y=-4.126.\n",
      "Connector A2:\tpeduncle has padding -10, z offset  -3. flower euler angle X= 1.350, Y=-4.044.\n",
      "Connector A1:\tpeduncle has padding   4, z offset  11. flower euler angle X= 4.127, Y=-4.116.\n",
      "Connector B4:\tpeduncle has padding  -3, z offset   4. flower euler angle X=-4.086, Y=-1.360.\n",
      "Connector B3:\tpeduncle has padding  11, z offset  18. flower euler angle X=-1.392, Y=-1.392.\n",
      "Connector B2:\tpeduncle has padding  -3, z offset   4. flower euler angle X= 1.364, Y=-1.364.\n",
      "Connector B1:\tpeduncle has padding  11, z offset  18. flower euler angle X= 4.170, Y=-1.388.\n",
      "Connector C4:\tpeduncle has padding -10, z offset  -3. flower euler angle X=-4.045, Y= 1.347.\n",
      "Connector C3:\tpeduncle has padding   4, z offset  11. flower euler angle X=-1.378, Y= 1.377.\n",
      "Connector C2:\tpeduncle has padding -10, z offset  -3. flower euler angle X= 1.350, Y= 1.350.\n",
      "Connector C1:\tpeduncle has padding   4, z offset  11. flower euler angle X= 4.127, Y= 1.374.\n",
      "Connector D4:\tpeduncle has padding  -3, z offset   4. flower euler angle X=-4.086, Y= 4.075.\n",
      "Connector D3:\tpeduncle has padding  11, z offset  18. flower euler angle X=-1.392, Y= 4.168.\n",
      "Connector D2:\tpeduncle has padding  -3, z offset   4. flower euler angle X= 1.364, Y= 4.084.\n",
      "Connector D1:\tpeduncle has padding  11, z offset  18. flower euler angle X= 4.170, Y= 4.159.\n"
     ]
    }
   ],
   "source": [
    "for b in range(n):\n",
    "    for a in range(m):\n",
    "        d_off = layer_map[a,b]*d_gap\n",
    "        act_d = d-d_off\n",
    "        gapX = (a-m/2+1/2)*gap\n",
    "        gapY = (b-n/2+1/2)*gap\n",
    "        angleX = np.arctan(gapX/act_d)\n",
    "        angleY = np.arctan(gapY/act_d*np.cos(angleX))\n",
    "        \n",
    "        print(\"Connector {}{}:\\t\".format(letter_label[b],number_label[a]) + \\\n",
    "              \"peduncle has padding {: >3}, z offset {: >3}. \".format(\"{:d}\".format(ori_pad2+d_off), \n",
    "                                                                      \"{:d}\".format(ori_zoff+d_off)) + \\\n",
    "              \"flower euler angle X={: >6}, Y={: >6}.\".format(\"{:.3f}\".format(angleX/np.pi*180), \n",
    "                                                              \"{:.3f}\".format(angleY/np.pi*180)))"
   ]
  },
  {
   "cell_type": "code",
   "execution_count": null,
   "metadata": {},
   "outputs": [],
   "source": []
  },
  {
   "cell_type": "code",
   "execution_count": null,
   "metadata": {},
   "outputs": [],
   "source": []
  }
 ],
 "metadata": {
  "kernelspec": {
   "display_name": "Python 3",
   "language": "python",
   "name": "python3"
  },
  "language_info": {
   "codemirror_mode": {
    "name": "ipython",
    "version": 3
   },
   "file_extension": ".py",
   "mimetype": "text/x-python",
   "name": "python",
   "nbconvert_exporter": "python",
   "pygments_lexer": "ipython3",
   "version": "3.7.4"
  }
 },
 "nbformat": 4,
 "nbformat_minor": 2
}
