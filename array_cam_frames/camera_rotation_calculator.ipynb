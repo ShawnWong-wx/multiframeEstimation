{
 "cells": [
  {
   "cell_type": "markdown",
   "metadata": {},
   "source": [
    "# Camera rotation calculator\n",
    "\n",
    "Calculate the rotation needed for the cameras to focus on a same point\n",
    "\n",
    "The depth layer choice of the cameras needs to be a staggered matrix (see the other notebook)\n",
    "\n",
    "Peduncle extender original pad dimension: 25, -10. Original Z placement: -3."
   ]
  },
  {
   "cell_type": "code",
   "execution_count": 1,
   "metadata": {},
   "outputs": [],
   "source": [
    "import numpy as np"
   ]
  },
  {
   "cell_type": "code",
   "execution_count": 2,
   "metadata": {},
   "outputs": [],
   "source": [
    "# all distance in millimeters\n",
    "d = 700\n",
    "gap = 33\n",
    "d_gap = 12\n",
    "layer_map = np.array([\n",
    "    [0, 1, 0, 1],\n",
    "    [3, 2, 3, 2],\n",
    "    [0, 1, 0, 1],\n",
    "    [3, 2, 3, 2]\n",
    "]) # choose this, for its 1) row-wise repeat 2) reasonable corner cases\n",
    "m,n = layer_map.shape\n",
    "letter_label = ['A', 'B', 'C', 'D']\n",
    "number_label = np.arange(4,0,-1)\n",
    "ori_pad2 = -10\n",
    "ori_zoff = -3"
   ]
  },
  {
   "cell_type": "code",
   "execution_count": 3,
   "metadata": {},
   "outputs": [
    {
     "name": "stdout",
     "output_type": "stream",
     "text": [
      "Connector A4:\tpeduncle has padding -10, z offset  -3. flower euler angle X=-4.045, Y=-4.035.\n",
      "Connector A3:\tpeduncle has padding  26, z offset  33. flower euler angle X=-1.423, Y=-4.262.\n",
      "Connector A2:\tpeduncle has padding -10, z offset  -3. flower euler angle X= 1.350, Y=-4.044.\n",
      "Connector A1:\tpeduncle has padding  26, z offset  33. flower euler angle X= 4.263, Y=-4.252.\n",
      "Connector B4:\tpeduncle has padding   2, z offset   9. flower euler angle X=-4.115, Y=-1.370.\n",
      "Connector B3:\tpeduncle has padding  14, z offset  21. flower euler angle X=-1.398, Y=-1.398.\n",
      "Connector B2:\tpeduncle has padding   2, z offset   9. flower euler angle X= 1.374, Y=-1.373.\n",
      "Connector B1:\tpeduncle has padding  14, z offset  21. flower euler angle X= 4.188, Y=-1.394.\n",
      "Connector C4:\tpeduncle has padding -10, z offset  -3. flower euler angle X=-4.045, Y= 1.347.\n",
      "Connector C3:\tpeduncle has padding  26, z offset  33. flower euler angle X=-1.423, Y= 1.423.\n",
      "Connector C2:\tpeduncle has padding -10, z offset  -3. flower euler angle X= 1.350, Y= 1.350.\n",
      "Connector C1:\tpeduncle has padding  26, z offset  33. flower euler angle X= 4.263, Y= 1.420.\n",
      "Connector D4:\tpeduncle has padding   2, z offset   9. flower euler angle X=-4.115, Y= 4.105.\n",
      "Connector D3:\tpeduncle has padding  14, z offset  21. flower euler angle X=-1.398, Y= 4.187.\n",
      "Connector D2:\tpeduncle has padding   2, z offset   9. flower euler angle X= 1.374, Y= 4.114.\n",
      "Connector D1:\tpeduncle has padding  14, z offset  21. flower euler angle X= 4.188, Y= 4.177.\n"
     ]
    }
   ],
   "source": [
    "for b in range(n):\n",
    "    for a in range(m):\n",
    "        d_off = layer_map[a,b]*d_gap\n",
    "        act_d = d-d_off\n",
    "        gapX = (a-m/2+1/2)*gap\n",
    "        gapY = (b-n/2+1/2)*gap\n",
    "        angleX = np.arctan(gapX/act_d)\n",
    "        angleY = np.arctan(gapY/act_d*np.cos(angleX))\n",
    "        \n",
    "        print(\"Connector {}{}:\\t\".format(letter_label[b],number_label[a]) + \\\n",
    "              \"peduncle has padding {: >3}, z offset {: >3}. \".format(\"{:d}\".format(ori_pad2+d_off), \n",
    "                                                                      \"{:d}\".format(ori_zoff+d_off)) + \\\n",
    "              \"flower euler angle X={: >6}, Y={: >6}.\".format(\"{:.3f}\".format(angleX/np.pi*180), \n",
    "                                                              \"{:.3f}\".format(angleY/np.pi*180)))"
   ]
  },
  {
   "cell_type": "code",
   "execution_count": 4,
   "metadata": {},
   "outputs": [
    {
     "name": "stdout",
     "output_type": "stream",
     "text": [
      "Margin is 0.440\n"
     ]
    }
   ],
   "source": [
    "# test margin, test corner cases\n",
    "thickness = 7.6\n",
    "width = 40\n",
    "down = width/2*(np.sin(4.283/180*np.pi)+np.sin(4.271/180*np.pi))\n",
    "up = width/2*(np.sin(4.200/180*np.pi)+np.sin(-1.399/180*np.pi))\n",
    "print(\"Margin is {:.3f}\".format(d_gap-thickness-down-up))"
   ]
  },
  {
   "cell_type": "code",
   "execution_count": 5,
   "metadata": {},
   "outputs": [
    {
     "name": "stdout",
     "output_type": "stream",
     "text": [
      "[[0 1 0 1]\n",
      " [3 2 3 2]\n",
      " [0 1 0 1]\n",
      " [3 2 3 2]]\n"
     ]
    }
   ],
   "source": [
    "print(layer_map)"
   ]
  },
  {
   "cell_type": "code",
   "execution_count": null,
   "metadata": {},
   "outputs": [],
   "source": []
  }
 ],
 "metadata": {
  "kernelspec": {
   "display_name": "Python 3",
   "language": "python",
   "name": "python3"
  },
  "language_info": {
   "codemirror_mode": {
    "name": "ipython",
    "version": 3
   },
   "file_extension": ".py",
   "mimetype": "text/x-python",
   "name": "python",
   "nbconvert_exporter": "python",
   "pygments_lexer": "ipython3",
   "version": "3.7.4"
  }
 },
 "nbformat": 4,
 "nbformat_minor": 2
}
