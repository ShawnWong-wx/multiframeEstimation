{
 "cells": [
  {
   "cell_type": "markdown",
   "metadata": {},
   "source": [
    "# Camera rotation calculator\n",
    "\n",
    "Calculate the rotation needed for the cameras to focus on a same point\n",
    "\n",
    "The depth layer choice of the cameras needs to be a staggered matrix (see the other notebook)\n",
    "\n",
    "Peduncle extender original pad dimension: 25, -10. Original Z placement: -3."
   ]
  },
  {
   "cell_type": "code",
   "execution_count": 1,
   "metadata": {},
   "outputs": [],
   "source": [
    "import numpy as np"
   ]
  },
  {
   "cell_type": "code",
   "execution_count": 2,
   "metadata": {},
   "outputs": [],
   "source": [
    "# all distance in millimeters\n",
    "d = 1070\n",
    "gap = 33\n",
    "d_gap = 12 # 10 should be sufficient, but layer 0 lense tip may touch layer 3 PCB\n",
    "layer_map = np.array([\n",
    "    [0, 1, 0, 1],\n",
    "    [3, 2, 3, 2],\n",
    "    [0, 1, 0, 1],\n",
    "    [3, 2, 3, 2]\n",
    "]) # choose this, for its 1) row-wise repeat 2) reasonable corner cases\n",
    "m,n = layer_map.shape\n",
    "letter_label = ['A', 'B', 'C', 'D']\n",
    "number_label = np.arange(4,0,-1)\n",
    "ori_pad2 = -10\n",
    "ori_zoff = -3\n",
    "\n",
    "tilt_flower = True\n",
    "extend_peduncle = False"
   ]
  },
  {
   "cell_type": "code",
   "execution_count": 3,
   "metadata": {},
   "outputs": [
    {
     "name": "stdout",
     "output_type": "stream",
     "text": [
      "========== Tilting flower, entending peduncle ==========\n",
      "Connector A4:\tflower euler angle X=-2.649, Y=-2.646.\n",
      "Connector A3:\tflower euler angle X=-0.914, Y=-2.740.\n",
      "Connector A2:\tflower euler angle X= 0.883, Y=-2.648.\n",
      "Connector A1:\tflower euler angle X= 2.741, Y=-2.738.\n",
      "Connector B4:\tflower euler angle X=-2.679, Y=-0.893.\n",
      "Connector B3:\tflower euler angle X=-0.904, Y=-0.904.\n",
      "Connector B2:\tflower euler angle X= 0.893, Y=-0.893.\n",
      "Connector B1:\tflower euler angle X= 2.709, Y=-0.903.\n",
      "Connector C4:\tflower euler angle X=-2.649, Y= 0.883.\n",
      "Connector C3:\tflower euler angle X=-0.914, Y= 0.914.\n",
      "Connector C2:\tflower euler angle X= 0.883, Y= 0.883.\n",
      "Connector C1:\tflower euler angle X= 2.741, Y= 0.913.\n",
      "Connector D4:\tflower euler angle X=-2.679, Y= 2.676.\n",
      "Connector D3:\tflower euler angle X=-0.904, Y= 2.709.\n",
      "Connector D2:\tflower euler angle X= 0.893, Y= 2.678.\n",
      "Connector D1:\tflower euler angle X= 2.709, Y= 2.706.\n"
     ]
    }
   ],
   "source": [
    "if tilt_flower:\n",
    "    print(\"========== Tilting flower, entending peduncle ==========\")\n",
    "else:\n",
    "    print(\"========== Tilting connector ==========\")\n",
    "for b in range(n):\n",
    "    for a in range(m):\n",
    "        d_off = layer_map[a,b]*d_gap\n",
    "        act_d = d-d_off\n",
    "        gapX = (a-m/2+1/2)*gap\n",
    "        gapY = (b-n/2+1/2)*gap\n",
    "        angleX = np.arctan(gapX/act_d)\n",
    "        angleY = np.arctan(gapY/act_d*np.cos(angleX))\n",
    "        \n",
    "        out_line = \"Connector {}{}:\\t\".format(letter_label[b],number_label[a])\n",
    "        if extend_peduncle:\n",
    "            out_line = out_line + \\\n",
    "            \"peduncle has padding {: >3}, z offset {: >3}. \".format(\"{:d}\".format(ori_pad2+d_off), \n",
    "                                                                          \"{:d}\".format(ori_zoff+d_off))\n",
    "        if tilt_flower:\n",
    "            out_line = out_line + \\\n",
    "                  \"flower euler angle X={: >6}, Y={: >6}.\".format(\"{:.3f}\".format(angleX/np.pi*180), \n",
    "                                                                  \"{:.3f}\".format(angleY/np.pi*180))\n",
    "        else:\n",
    "            out_line = out_line + \\\n",
    "                  \"connector euler angle X={: >6}, Y={: >6}.\".format(\"{:.3f}\".format(-angleX/np.pi*180), \n",
    "                                                                     \"{:.3f}\".format(-angleY/np.pi*180))\n",
    "        print(out_line)"
   ]
  },
  {
   "cell_type": "code",
   "execution_count": 4,
   "metadata": {},
   "outputs": [
    {
     "name": "stdout",
     "output_type": "stream",
     "text": [
      "Margin is 2.393\n"
     ]
    }
   ],
   "source": [
    "# test margin, test corner cases\n",
    "thickness = 7.6\n",
    "width = 40\n",
    "down = width/2*(np.sin(4.283/180*np.pi)+np.sin(4.271/180*np.pi))\n",
    "up = width/2*(np.sin(-4.200/180*np.pi)+np.sin(1.399/180*np.pi))\n",
    "print(\"Margin is {:.3f}\".format(d_gap-thickness-down-up))"
   ]
  },
  {
   "cell_type": "code",
   "execution_count": 5,
   "metadata": {},
   "outputs": [
    {
     "name": "stdout",
     "output_type": "stream",
     "text": [
      "[[0 1 0 1]\n",
      " [3 2 3 2]\n",
      " [0 1 0 1]\n",
      " [3 2 3 2]]\n"
     ]
    }
   ],
   "source": [
    "print(layer_map)"
   ]
  },
  {
   "cell_type": "code",
   "execution_count": null,
   "metadata": {},
   "outputs": [],
   "source": []
  }
 ],
 "metadata": {
  "kernelspec": {
   "display_name": "Python 3",
   "language": "python",
   "name": "python3"
  },
  "language_info": {
   "codemirror_mode": {
    "name": "ipython",
    "version": 3
   },
   "file_extension": ".py",
   "mimetype": "text/x-python",
   "name": "python",
   "nbconvert_exporter": "python",
   "pygments_lexer": "ipython3",
   "version": "3.7.4"
  }
 },
 "nbformat": 4,
 "nbformat_minor": 2
}
