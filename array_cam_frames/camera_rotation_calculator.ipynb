{
 "cells": [
  {
   "cell_type": "markdown",
   "metadata": {},
   "source": [
    "# Camera rotation calculator\n",
    "\n",
    "Calculate the rotation needed for the cameras to focus on a same point\n",
    "\n",
    "Peduncle extender original pad dimension: 25, -10. Original Z placement: -3."
   ]
  },
  {
   "cell_type": "code",
   "execution_count": 1,
   "metadata": {},
   "outputs": [],
   "source": [
    "import numpy as np"
   ]
  },
  {
   "cell_type": "code",
   "execution_count": 2,
   "metadata": {},
   "outputs": [],
   "source": [
    "# all distance in millimeters\n",
    "d = 700\n",
    "gap = 33\n",
    "d_gap = 12\n",
    "layer_map = np.array([\n",
    "    [0, 1, 0, 1],\n",
    "    [2, 3, 2, 3],\n",
    "    [0, 1, 0, 1],\n",
    "    [2, 3, 2, 3]\n",
    "])\n",
    "m,n = layer_map.shape\n",
    "letter_label = ['A', 'B', 'C', 'D']\n",
    "ori_pad2 = -10\n",
    "ori_zoff = -3"
   ]
  },
  {
   "cell_type": "code",
   "execution_count": 18,
   "metadata": {},
   "outputs": [
    {
     "name": "stdout",
     "output_type": "stream",
     "text": [
      "Connector AA:\tpeduncle has padding -10, z offset  -3. flower euler angle X=-4.045, Y=-4.035.\n",
      "Connector AB:\tpeduncle has padding   2, z offset   9. flower euler angle X=-4.115, Y=-1.370.\n",
      "Connector AC:\tpeduncle has padding -10, z offset  -3. flower euler angle X=-4.045, Y= 1.347.\n",
      "Connector AD:\tpeduncle has padding   2, z offset   9. flower euler angle X=-4.115, Y= 4.105.\n",
      "Connector BA:\tpeduncle has padding  14, z offset  21. flower euler angle X=-1.398, Y=-4.187.\n",
      "Connector BB:\tpeduncle has padding  26, z offset  33. flower euler angle X=-1.423, Y=-1.423.\n",
      "Connector BC:\tpeduncle has padding  14, z offset  21. flower euler angle X=-1.398, Y= 1.398.\n",
      "Connector BD:\tpeduncle has padding  26, z offset  33. flower euler angle X=-1.423, Y= 4.262.\n",
      "Connector CA:\tpeduncle has padding -10, z offset  -3. flower euler angle X= 1.350, Y=-4.044.\n",
      "Connector CB:\tpeduncle has padding   2, z offset   9. flower euler angle X= 1.374, Y=-1.373.\n",
      "Connector CC:\tpeduncle has padding -10, z offset  -3. flower euler angle X= 1.350, Y= 1.350.\n",
      "Connector CD:\tpeduncle has padding   2, z offset   9. flower euler angle X= 1.374, Y= 4.114.\n",
      "Connector DA:\tpeduncle has padding  14, z offset  21. flower euler angle X= 4.188, Y=-4.177.\n",
      "Connector DB:\tpeduncle has padding  26, z offset  33. flower euler angle X= 4.263, Y=-1.420.\n",
      "Connector DC:\tpeduncle has padding  14, z offset  21. flower euler angle X= 4.188, Y= 1.394.\n",
      "Connector DD:\tpeduncle has padding  26, z offset  33. flower euler angle X= 4.263, Y= 4.252.\n"
     ]
    }
   ],
   "source": [
    "for a in range(m):\n",
    "    for b in range(n):\n",
    "        d_off = layer_map[a,b]*d_gap\n",
    "        act_d = d-d_off\n",
    "        gapX = (a-m/2+1/2)*gap\n",
    "        gapY = (b-n/2+1/2)*gap\n",
    "        angleX = np.arctan(gapX/act_d)\n",
    "        angleY = np.arctan(gapY/act_d*np.cos(angleX))\n",
    "        \n",
    "        print(\"Connector {}{}:\\t\".format(letter_label[a], letter_label[b]) + \\\n",
    "              \"peduncle has padding {: >3}, z offset {: >3}. \".format(\"{:d}\".format(ori_pad2+d_off), \n",
    "                                                                      \"{:d}\".format(ori_zoff+d_off)) + \\\n",
    "              \"flower euler angle X={: >6}, Y={: >6}.\".format(\"{:.3f}\".format(angleX/np.pi*180), \n",
    "                                                              \"{:.3f}\".format(angleY/np.pi*180)))"
   ]
  },
  {
   "cell_type": "code",
   "execution_count": null,
   "metadata": {},
   "outputs": [],
   "source": []
  },
  {
   "cell_type": "code",
   "execution_count": null,
   "metadata": {},
   "outputs": [],
   "source": []
  }
 ],
 "metadata": {
  "kernelspec": {
   "display_name": "Python 3",
   "language": "python",
   "name": "python3"
  },
  "language_info": {
   "codemirror_mode": {
    "name": "ipython",
    "version": 3
   },
   "file_extension": ".py",
   "mimetype": "text/x-python",
   "name": "python",
   "nbconvert_exporter": "python",
   "pygments_lexer": "ipython3",
   "version": "3.7.4"
  }
 },
 "nbformat": 4,
 "nbformat_minor": 2
}
