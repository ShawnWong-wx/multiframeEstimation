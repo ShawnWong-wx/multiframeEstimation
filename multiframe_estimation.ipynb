{
  "nbformat": 4,
  "nbformat_minor": 0,
  "metadata": {
    "colab": {
      "name": "multiframe-estimation.ipynb",
      "provenance": [],
      "collapsed_sections": [],
      "toc_visible": true,
      "authorship_tag": "ABX9TyNFEBJI1K3C3dbziRxejGbL",
      "include_colab_link": true
    },
    "kernelspec": {
      "name": "python3",
      "display_name": "Python 3"
    },
    "language_info": {
      "name": "python"
    },
    "accelerator": "GPU"
  },
  "cells": [
    {
      "cell_type": "markdown",
      "metadata": {
        "id": "view-in-github",
        "colab_type": "text"
      },
      "source": [
        "<a href=\"https://colab.research.google.com/github/djbradyAtOpticalSciencesArizona/multiframeEstimation/blob/main/multiframe_estimation.ipynb\" target=\"_parent\"><img src=\"https://colab.research.google.com/assets/colab-badge.svg\" alt=\"Open In Colab\"/></a>"
      ]
    },
    {
      "cell_type": "markdown",
      "metadata": {
        "id": "jHJ87YUln1Vc"
      },
      "source": [
        "# Multiframe estimation\n",
        "#### Qian\n",
        "#### April 13\n",
        "\n",
        "If we want to estimate signals of time t (denoted as $\\phi_T$), and we have $I_T$ as the **reference** pixel map and $I_{1\\sim T-1}$ as **alternatives** pixel maps:\n",
        "\n",
        "* Demosaicing: alternatives should provide extra sample points where color gets filtered in the reference frame.\n",
        "* Super-resolution: alternatives should provide extra sample points between pixels of the reference frame.\n",
        "* Stitching: alternatives should provide extra sample points beyond the reference frame.\n",
        "---\n",
        "* Denoising: alternatives should provide extra sample points near the samples of the reference frame.\n",
        "* All-in-focus: alternatives should provide extra sample points at the region where the reference frame is blurry\n",
        "* HDR: alternatives should provide extra sample points at the region where the reference frame is saturated or noisy.\n",
        "\n",
        "Those answers multiframe estimation nature: denser & multiple sampling of the signals gives more accurate estimates. Subpixel-level sampling can be achieved via motions naturally happened in the scene; although we need to find correspondence to align/register samples of a same point or close points.\n",
        "\n",
        "<img src=\"https://github.com/djbradyAtOpticalSciencesArizona/multiframeEstimation/blob/main/imgs/align_sample_points.png?raw=1\" width=\"400\">\n",
        "\n",
        "If we visualize the sample points after alignment, typically a large portion of points resides between the original pixel grid of $I_T$. On the contrary to pixel map-based methods that \"rounds\" each samples to a nearest pixel grid or \"distributes\" each sample to neighborhod grids, we leave it \"as is\", because our neural image representation can take arbitrary coordinates and return its radiance. We try to learn a function $\\Phi: (x, y) \\rightarrow v$ to fit all the aligned points with minimal error.\n",
        "\n",
        "<img src=\"https://github.com/djbradyAtOpticalSciencesArizona/multiframeEstimation/blob/main/imgs/neural_representation.png?raw=1\" width=\"300\">\n",
        "\n",
        "## align signal + neural representation pipeline:\n",
        "\n",
        "Signal alignment is for find pixelwise correspondences. When scenes have a rigid model, or only the camera params changes, we can have those correspondences with calibrated paramemters. In a general scene that we do not have a model of objects and the camera, correspondences has to be estimated. If we use optical flow, this is a process of forward optical flow estimation. \n",
        "\n",
        "Practical questions:\n",
        "* points that share similar destination: estimate occulsion as well.\n",
        "\n",
        "Neural image representation is implemented by a multi layer perceptron (MLP) $\\Phi$, that takes arbitrary point and output color information.\n",
        "\n",
        "Practical questions:\n",
        "* In training phase, blurry/saturated/mis-aligned points that needs to be maske-out: use alpha channel to weight final loss when training $\\Phi$. (Thoughts from weighted regression)\n",
        "\n"
      ]
    },
    {
      "cell_type": "markdown",
      "metadata": {
        "id": "PsrA9guB2t8G"
      },
      "source": [
        "## Demo:"
      ]
    },
    {
      "cell_type": "markdown",
      "metadata": {
        "id": "sLodnoECCZlH"
      },
      "source": [
        "scene: a circle rotates\n",
        "\n",
        "...deg\n",
        "\n",
        "8 frames in total. 64 x 64 x 3 uint8\n"
      ]
    },
    {
      "cell_type": "code",
      "metadata": {
        "id": "F4d9TZeWKuV9"
      },
      "source": [
        "! unzip -q cbs.zip"
      ],
      "execution_count": 1,
      "outputs": []
    },
    {
      "cell_type": "code",
      "metadata": {
        "id": "_QUgSQxvLLOi"
      },
      "source": [
        "def print_stat(narray, narray_name = \"Array\"):\n",
        "    print(narray_name, \"shape: \", narray.shape, \"dtype:\", narray.dtype)\n",
        "    arr = narray.flatten()\n",
        "    print(narray_name , \"stat: max: {}, min: {}, mean: {}, std: {}\".format(arr.max(), arr.min(), arr.mean(), arr.std()))"
      ],
      "execution_count": 2,
      "outputs": []
    },
    {
      "cell_type": "code",
      "metadata": {
        "colab": {
          "base_uri": "https://localhost:8080/",
          "height": 541
        },
        "id": "L0TwZ8c_Cb3Y",
        "outputId": "ed721534-8e0a-4a5c-d4ce-18083afd5da3"
      },
      "source": [
        "import cv2\n",
        "import numpy as np\n",
        "import matplotlib.pyplot as plt\n",
        "%matplotlib inline\n",
        "\n",
        "degs = ['-10', '5', '8', '18', '20', '26', '34']\n",
        "ref = cv2.imread('cb.png')[..., ::-1]/255.0\n",
        "print_stat(ref)\n",
        "plt.imshow(ref)\n",
        "plt.show()\n",
        "\n",
        "fig, ax = plt.subplots(2, 4)\n",
        "for i in range(7):\n",
        "    alt = cv2.imread('cb_{}.png'.format(degs[i]))[..., ::-1]/255.0\n",
        "    ax[i//4, i % 4].imshow(alt)\n",
        "plt.show()"
      ],
      "execution_count": 3,
      "outputs": [
        {
          "output_type": "stream",
          "text": [
            "Array shape:  (64, 64, 3) dtype: float64\n",
            "Array stat: max: 1.0, min: 0.0, mean: 0.02271560968137255, std: 0.1470402988451372\n"
          ],
          "name": "stdout"
        },
        {
          "output_type": "display_data",
          "data": {
            "image/png": "[encoded data removed]",
            "text/plain": [
              "<Figure size 432x288 with 1 Axes>"
            ]
          },
          "metadata": {
            "tags": [],
            "needs_background": "light"
          }
        },
        {
          "output_type": "display_data",
          "data": {
            "image/png": "[encoded data removed]",
            "text/plain": [
              "<Figure size 432x288 with 8 Axes>"
            ]
          },
          "metadata": {
            "tags": [],
            "needs_background": "light"
          }
        }
      ]
    },
    {
      "cell_type": "markdown",
      "metadata": {
        "id": "hHt6sopcCSIV"
      },
      "source": [
        "align samples regarding the reference frame"
      ]
    },
    {
      "cell_type": "code",
      "metadata": {
        "id": "t3Q9_hBZnylp"
      },
      "source": [
        "coords = np.linspace(0, 1, 64, endpoint=False)\n",
        "mesh = np.stack(np.meshgrid(coords, coords), -1)"
      ],
      "execution_count": 16,
      "outputs": []
    },
    {
      "cell_type": "code",
      "metadata": {
        "colab": {
          "base_uri": "https://localhost:8080/"
        },
        "id": "8S6w9le3NVLH",
        "outputId": "e2514427-c49f-49e8-8598-1a49753ca051"
      },
      "source": [
        "def rot_matrix(deg):\n",
        "    rad = -deg * np.pi /180.0\n",
        "    return np.array([[np.cos(rad), -np.sin(rad)], [np.sin(rad), np.cos(rad)]])\n",
        "rot_mat = rot_matrix(-10)\n",
        "print(rot_mat)"
      ],
      "execution_count": 21,
      "outputs": [
        {
          "output_type": "stream",
          "text": [
            "[[ 0.98480775 -0.17364818]\n",
            " [ 0.17364818  0.98480775]]\n"
          ],
          "name": "stdout"
        }
      ]
    },
    {
      "cell_type": "code",
      "metadata": {
        "colab": {
          "base_uri": "https://localhost:8080/",
          "height": 265
        },
        "id": "Lp_lbiGDO5oc",
        "outputId": "386ed427-4261-45e8-f969-4655ba151874"
      },
      "source": [
        "aligned_mesh = rot_mat.dot(mesh.transpose((2, 0, 1)).reshape((2, -1)))\n",
        "aligned_mesh = aligned_mesh.transpose((1, 0)).reshape(64, 64, 2)\n",
        "plt.plot(aligned_mesh[:10, :10, 0], aligned_mesh[:10, :10, 1], 'bo',\n",
        "         mesh[:10, :10, 0], mesh[:10, :10, 1], 'ro')\n",
        "plt.show()\n"
      ],
      "execution_count": 20,
      "outputs": [
        {
          "output_type": "display_data",
          "data": {
            "image/png": "[encoded data removed]",
            "text/plain": [
              "<Figure size 432x288 with 1 Axes>"
            ]
          },
          "metadata": {
            "tags": [],
            "needs_background": "light"
          }
        }
      ]
    },
    {
      "cell_type": "code",
      "metadata": {
        "colab": {
          "base_uri": "https://localhost:8080/"
        },
        "id": "0TvXbqWRQo_b",
        "outputId": "bfd550e2-e496-410c-eb80-bff611e5af59"
      },
      "source": [
        "aligned_meshes = [mesh]\n",
        "imgs = [ref]\n",
        "for i in range(7):\n",
        "    imgs.append(cv2.imread('cb_{}.png'.format(int(degs[i])))[..., ::-1]/255.0)\n",
        "    rot_mat = rot_matrix(int(degs[i]))\n",
        "    aligned_mesh = rot_mat.dot(mesh.transpose((2, 0, 1)).reshape((2, -1)))\n",
        "    aligned_mesh = aligned_mesh.transpose((1, 0)).reshape(64, 64, 2)\n",
        "    aligned_meshes.append(aligned_mesh)\n",
        "imgs = np.stack(imgs)\n",
        "aligned_meshes = np.stack(aligned_meshes)\n",
        "print(imgs.shape)\n",
        "print(aligned_meshes.shape)"
      ],
      "execution_count": 22,
      "outputs": [
        {
          "output_type": "stream",
          "text": [
            "(8, 64, 64, 3)\n",
            "(8, 64, 64, 2)\n"
          ],
          "name": "stdout"
        }
      ]
    },
    {
      "cell_type": "markdown",
      "metadata": {
        "id": "5Xi_6kqQTEfp"
      },
      "source": [
        "neural representation"
      ]
    },
    {
      "cell_type": "code",
      "metadata": {
        "id": "71sg8pnOSw0r"
      },
      "source": [
        "import numpy as np\n",
        "import torch\n",
        "import torchvision\n",
        "import torchvision.transforms as transforms\n",
        "import random\n",
        "random.seed(38)\n",
        "np.random.seed(38)\n",
        "torch.manual_seed(38)\n",
        "\n",
        "train_data = [aligned_meshes, imgs]\n",
        "\n",
        "mapping_size = 256\n",
        "B_gauss = np.random.normal(size=(mapping_size, 2)) * 10.\n",
        "\n",
        "# Fourier feature mapping\n",
        "def input_mapping(x, B): \n",
        "  if B is None:\n",
        "    return x\n",
        "  else:\n",
        "    x_proj = (2.*np.pi*x) @ B.T\n",
        "    return np.concatenate([np.sin(x_proj), np.cos(x_proj)], axis=-1)\n",
        "\n",
        "class pointDataset(torch.utils.data.Dataset):\n",
        "    def __init__(self, data, B, transform = None):\n",
        "        self.inputs = data[0]\n",
        "        self.targets = data[1]\n",
        "        n, h, w, c = self.inputs.shape\n",
        "        self.inputs = self.inputs.reshape((n * h * w, -1))\n",
        "        self.targets = self.targets.reshape((n * h * w, -1))\n",
        "        self.B = B\n",
        "        self.transform = transform\n",
        "\n",
        "    def __len__(self):\n",
        "        return self.inputs.shape[0]\n",
        "\n",
        "    def __getitem__(self, index):\n",
        "        X = self.inputs[index]\n",
        "        Y = self.targets[index]\n",
        "        X = input_mapping(X, self.B)\n",
        "        if self.transform is not None:\n",
        "            X = self.transform(X)\n",
        "        X = torch.from_numpy(X).float()\n",
        "        Y = torch.from_numpy(Y).float()\n",
        "        return X, Y\n",
        "\n",
        "trainset = pointDataset(train_data, B_gauss, transform=None) ## set root to '.' doesnt work\n",
        "trainloader = torch.utils.data.DataLoader(trainset, batch_size=512,\n",
        "                                          shuffle=True, num_workers=2)"
      ],
      "execution_count": 23,
      "outputs": []
    },
    {
      "cell_type": "code",
      "metadata": {
        "colab": {
          "base_uri": "https://localhost:8080/"
        },
        "id": "j4maYhDpT315",
        "outputId": "29094f05-009f-4b8f-fcb3-4d056263c746"
      },
      "source": [
        "## build network\n",
        "import torch\n",
        "import torch.nn as nn\n",
        "import torch.nn.functional as F\n",
        "from collections import OrderedDict\n",
        "\n",
        "class mlpImage(nn.Module):\n",
        "    def __init__(self, num_layers, num_channels):\n",
        "        super(mlpImage, self).__init__()\n",
        "        layers = OrderedDict(\n",
        "            [(\"linear1\", nn.Linear(512, num_channels)),\n",
        "             (\"relu1\", nn.ReLU(inplace=True)),]\n",
        "        )\n",
        "        for i in range(1, num_layers-1):\n",
        "            layers[\"linear{}\".format(i+1)] = nn.Linear(num_channels, num_channels)\n",
        "            layers[\"relu{}\".format(i+1)] = nn.ReLU(inplace = True)\n",
        "        layers[\"linear{}\".format(num_layers)] = nn.Linear(num_channels, 3)\n",
        "        self.mlp = nn.Sequential(layers)\n",
        "\n",
        "    def forward(self, x):\n",
        "        return self.mlp(x)\n",
        "device = \"cuda\"\n",
        "model = mlpImage(4, 256).to(device)\n",
        "print(model)\n",
        "def print_model_params(model):\n",
        "    print(\"#total params:\", sum(p.numel() for p in model.parameters()), end='')\n",
        "    print(\" | #trainable params:\", sum(p.numel() for p in model.parameters() if p.requires_grad))\n",
        "\n",
        "print_model_params(model)"
      ],
      "execution_count": 24,
      "outputs": [
        {
          "output_type": "stream",
          "text": [
            "mlpImage(\n",
            "  (mlp): Sequential(\n",
            "    (linear1): Linear(in_features=512, out_features=256, bias=True)\n",
            "    (relu1): ReLU(inplace=True)\n",
            "    (linear2): Linear(in_features=256, out_features=256, bias=True)\n",
            "    (relu2): ReLU(inplace=True)\n",
            "    (linear3): Linear(in_features=256, out_features=256, bias=True)\n",
            "    (relu3): ReLU(inplace=True)\n",
            "    (linear4): Linear(in_features=256, out_features=3, bias=True)\n",
            "  )\n",
            ")\n",
            "#total params: 263683 | #trainable params: 263683\n"
          ],
          "name": "stdout"
        }
      ]
    },
    {
      "cell_type": "code",
      "metadata": {
        "colab": {
          "base_uri": "https://localhost:8080/"
        },
        "id": "8BkNLRNhUUPq",
        "outputId": "165bfda3-7627-4f41-b1ff-79f4d4c7d76e"
      },
      "source": [
        "## train network\n",
        "import torch.optim as optim\n",
        "loss_fn = nn.MSELoss()\n",
        "optimizer = optim.Adam(model.parameters(), lr=1e-4)\n",
        "\n",
        "def train(model, optimizer, n_epoch, trainloader, loss_fn):\n",
        "    for epoch in range(n_epoch):  # loop over the dataset multiple times\n",
        "\n",
        "        running_loss = 0.0\n",
        "        for i, data in enumerate(trainloader, 0):\n",
        "            # get the inputs; data is a list of [inputs, labels]\n",
        "            inputs, targets = data\n",
        "            inputs = inputs.to(device)\n",
        "            targets = targets.to(device)\n",
        "\n",
        "            # zero the parameter gradients\n",
        "            optimizer.zero_grad()\n",
        "\n",
        "            # forward + backward + optimize\n",
        "            outputs = model(inputs)\n",
        "            loss = loss_fn(outputs, targets)\n",
        "            loss.backward()\n",
        "            optimizer.step()\n",
        "\n",
        "            # print statistics\n",
        "            running_loss += loss.item()\n",
        "        print('epoch %d -- loss: %.3f' %\n",
        "                    (epoch+1, running_loss/(i+1)))\n",
        "        running_loss = 0.0\n",
        "\n",
        "    print('Finished Training')\n",
        "\n",
        "train(model, optimizer, 10, trainloader, loss_fn)\n",
        "\n",
        "## validate"
      ],
      "execution_count": 25,
      "outputs": [
        {
          "output_type": "stream",
          "text": [
            "epoch 1 -- loss: 0.019\n",
            "epoch 2 -- loss: 0.009\n",
            "epoch 3 -- loss: 0.003\n",
            "epoch 4 -- loss: 0.002\n",
            "epoch 5 -- loss: 0.002\n",
            "epoch 6 -- loss: 0.001\n",
            "epoch 7 -- loss: 0.001\n",
            "epoch 8 -- loss: 0.001\n",
            "epoch 9 -- loss: 0.001\n",
            "epoch 10 -- loss: 0.001\n",
            "Finished Training\n"
          ],
          "name": "stdout"
        }
      ]
    },
    {
      "cell_type": "code",
      "metadata": {
        "id": "cuc7p0mXUigd"
      },
      "source": [
        "model.eval()\n",
        "\n",
        "coords = np.linspace(0, 1, 256, endpoint=False)\n",
        "mesh = np.stack(np.meshgrid(coords, coords), -1)[np.newaxis]\n",
        "test_data = [mesh, mesh]\n",
        "testset = pointDataset(test_data, B_gauss, transform=None) ## set root to '.' doesnt work\n",
        "testloader = torch.utils.data.DataLoader(testset, batch_size=512,\n",
        "                                          shuffle=False, num_workers=2)\n",
        "\n",
        "with torch.no_grad():\n",
        "    img_list = []\n",
        "    for i, data in enumerate(testloader, 0):\n",
        "        inputs, targets = data\n",
        "        inputs = inputs.to(device)\n",
        "        outputs = model(inputs).detach()\n",
        "        img_list.append(outputs)\n",
        "mlp_img = torch.cat(img_list).cpu().numpy()\n",
        "mlp_img = mlp_img.reshape((256, 256, 3))\n"
      ],
      "execution_count": 26,
      "outputs": []
    },
    {
      "cell_type": "code",
      "metadata": {
        "colab": {
          "base_uri": "https://localhost:8080/",
          "height": 306
        },
        "id": "89l_ireiV-A-",
        "outputId": "10f3d2ef-eaae-4c91-c97e-da385d8aea02"
      },
      "source": [
        "plt.imshow(mlp_img)\n",
        "plt.show()"
      ],
      "execution_count": 27,
      "outputs": [
        {
          "output_type": "stream",
          "text": [
            "Clipping input data to the valid range for imshow with RGB data ([0..1] for floats or [0..255] for integers).\n"
          ],
          "name": "stderr"
        },
        {
          "output_type": "display_data",
          "data": {
            "image/png": "[encoded data removed]",
            "text/plain": [
              "<Figure size 432x288 with 1 Axes>"
            ]
          },
          "metadata": {
            "tags": [],
            "needs_background": "light"
          }
        }
      ]
    },
    {
      "cell_type": "code",
      "metadata": {
        "id": "EHkNO5MmWQdQ"
      },
      "source": [
        ""
      ],
      "execution_count": null,
      "outputs": []
    }
  ]
}